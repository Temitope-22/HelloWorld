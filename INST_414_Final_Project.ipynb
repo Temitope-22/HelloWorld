{
  "nbformat": 4,
  "nbformat_minor": 0,
  "metadata": {
    "colab": {
      "name": "INST 414 Final Project.ipynb",
      "provenance": [],
      "collapsed_sections": [],
      "toc_visible": true,
      "authorship_tag": "ABX9TyP3/e3sIsP4KTwsosvV0GF6",
      "include_colab_link": true
    },
    "kernelspec": {
      "name": "python3",
      "display_name": "Python 3"
    }
  },
  "cells": [
    {
      "cell_type": "markdown",
      "metadata": {
        "id": "view-in-github",
        "colab_type": "text"
      },
      "source": [
        "<a href=\"https://colab.research.google.com/github/Temitope-22/HelloWorld/blob/master/INST_414_Final_Project.ipynb\" target=\"_parent\"><img src=\"https://colab.research.google.com/assets/colab-badge.svg\" alt=\"Open In Colab\"/></a>"
      ]
    },
    {
      "cell_type": "markdown",
      "metadata": {
        "id": "l7EQe4k5ErcE"
      },
      "source": [
        "# INST 414 Final Project"
      ]
    },
    {
      "cell_type": "markdown",
      "metadata": {
        "id": "bJ22Pu_kE0sN"
      },
      "source": [
        "### Loading in data along with cleaning and preparing it for the coming models "
      ]
    },
    {
      "cell_type": "code",
      "metadata": {
        "id": "doXZ6nPMZuNL"
      },
      "source": [
        "# importing needed modules\n",
        "import pandas as pd\n",
        "import xgboost as xgb\n",
        "import numpy as np\n",
        "import matplotlib.pyplot as plt\n",
        "from keras.models import Sequential\n",
        "from keras.layers import Dense\n",
        "import keras\n",
        "import torch\n",
        "from torch import nn, optim\n",
        "import torch.nn.functional as F\n",
        "%matplotlib inline\n",
        "import seaborn as sns\n",
        "from sklearn.linear_model import LogisticRegression\n",
        "from sklearn.model_selection import train_test_split\n",
        "from sklearn.metrics import classification_report, confusion_matrix\n",
        "from sklearn.metrics import roc_auc_score, roc_curve, accuracy_score\n",
        "from sklearn.metrics import precision_score, recall_score\n",
        "from sklearn import preprocessing \n",
        "from sklearn.tree import DecisionTreeClassifier\n",
        "from sklearn.metrics import mean_squared_error as MSE"
      ],
      "execution_count": null,
      "outputs": []
    },
    {
      "cell_type": "code",
      "metadata": {
        "colab": {
          "resources": {
            "http://localhost:8080/nbextensions/google.colab/files.js": {
              "data": "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",
              "ok": true,
              "headers": [
                [
                  "content-type",
                  "application/javascript"
                ]
              ],
              "status": 200,
              "status_text": ""
            }
          },
          "base_uri": "https://localhost:8080/",
          "height": 73
        },
        "id": "bhfadMc8a7HU",
        "outputId": "131eefc5-ad3e-456d-9bf1-61d2eaf525bc"
      },
      "source": [
        "# needed bit of code from stackoverflow to import local files\n",
        "from google.colab import files\n",
        "uploaded = files.upload()"
      ],
      "execution_count": null,
      "outputs": [
        {
          "output_type": "display_data",
          "data": {
            "text/html": [
              "\n",
              "     <input type=\"file\" id=\"files-9f0dbb69-e6db-4fc8-b5b2-cafb36c7471f\" name=\"files[]\" multiple disabled\n",
              "        style=\"border:none\" />\n",
              "     <output id=\"result-9f0dbb69-e6db-4fc8-b5b2-cafb36c7471f\">\n",
              "      Upload widget is only available when the cell has been executed in the\n",
              "      current browser session. Please rerun this cell to enable.\n",
              "      </output>\n",
              "      <script src=\"/nbextensions/google.colab/files.js\"></script> "
            ],
            "text/plain": [
              "<IPython.core.display.HTML object>"
            ]
          },
          "metadata": {
            "tags": []
          }
        },
        {
          "output_type": "stream",
          "text": [
            "Saving cards.csv to cards (2).csv\n"
          ],
          "name": "stdout"
        }
      ]
    },
    {
      "cell_type": "code",
      "metadata": {
        "id": "WiFQHTEYZ67u"
      },
      "source": [
        "# reading in the data set \n",
        "hsdf = pd.read_csv('cards.csv', encoding='cp1252')\n",
        "# removing unnecessary columns and examining it for cleaning in the next few cells \n",
        "del hsdf[\"rarity\"]\n",
        "del hsdf['collectible']\n",
        "del hsdf['flavor']\n",
        "del hsdf['race']\n",
        "del hsdf['how_to_earn']\n",
        "del hsdf['how_to_earn_golden']\n",
        "del hsdf['targeting_arrow_text']\n",
        "del hsdf['faction']\n",
        "del hsdf['durability']"
      ],
      "execution_count": null,
      "outputs": []
    },
    {
      "cell_type": "code",
      "metadata": {
        "colab": {
          "base_uri": "https://localhost:8080/",
          "height": 286
        },
        "id": "96AfTlJujpAn",
        "outputId": "23944d44-1146-4ddf-93b8-19acb1f34aef"
      },
      "source": [
        "hsdf.describe()"
      ],
      "execution_count": null,
      "outputs": [
        {
          "output_type": "execute_result",
          "data": {
            "text/html": [
              "<div>\n",
              "<style scoped>\n",
              "    .dataframe tbody tr th:only-of-type {\n",
              "        vertical-align: middle;\n",
              "    }\n",
              "\n",
              "    .dataframe tbody tr th {\n",
              "        vertical-align: top;\n",
              "    }\n",
              "\n",
              "    .dataframe thead th {\n",
              "        text-align: right;\n",
              "    }\n",
              "</style>\n",
              "<table border=\"1\" class=\"dataframe\">\n",
              "  <thead>\n",
              "    <tr style=\"text-align: right;\">\n",
              "      <th></th>\n",
              "      <th>cost</th>\n",
              "      <th>attack</th>\n",
              "      <th>health</th>\n",
              "    </tr>\n",
              "  </thead>\n",
              "  <tbody>\n",
              "    <tr>\n",
              "      <th>count</th>\n",
              "      <td>2168.000000</td>\n",
              "      <td>1258.000000</td>\n",
              "      <td>1368.000000</td>\n",
              "    </tr>\n",
              "    <tr>\n",
              "      <th>mean</th>\n",
              "      <td>3.045203</td>\n",
              "      <td>3.600954</td>\n",
              "      <td>8.329678</td>\n",
              "    </tr>\n",
              "    <tr>\n",
              "      <th>std</th>\n",
              "      <td>2.749130</td>\n",
              "      <td>3.312866</td>\n",
              "      <td>13.825866</td>\n",
              "    </tr>\n",
              "    <tr>\n",
              "      <th>min</th>\n",
              "      <td>0.000000</td>\n",
              "      <td>0.000000</td>\n",
              "      <td>0.000000</td>\n",
              "    </tr>\n",
              "    <tr>\n",
              "      <th>25%</th>\n",
              "      <td>1.000000</td>\n",
              "      <td>2.000000</td>\n",
              "      <td>2.000000</td>\n",
              "    </tr>\n",
              "    <tr>\n",
              "      <th>50%</th>\n",
              "      <td>3.000000</td>\n",
              "      <td>3.000000</td>\n",
              "      <td>4.000000</td>\n",
              "    </tr>\n",
              "    <tr>\n",
              "      <th>75%</th>\n",
              "      <td>4.000000</td>\n",
              "      <td>5.000000</td>\n",
              "      <td>7.000000</td>\n",
              "    </tr>\n",
              "    <tr>\n",
              "      <th>max</th>\n",
              "      <td>50.000000</td>\n",
              "      <td>30.000000</td>\n",
              "      <td>200.000000</td>\n",
              "    </tr>\n",
              "  </tbody>\n",
              "</table>\n",
              "</div>"
            ],
            "text/plain": [
              "              cost       attack       health\n",
              "count  2168.000000  1258.000000  1368.000000\n",
              "mean      3.045203     3.600954     8.329678\n",
              "std       2.749130     3.312866    13.825866\n",
              "min       0.000000     0.000000     0.000000\n",
              "25%       1.000000     2.000000     2.000000\n",
              "50%       3.000000     3.000000     4.000000\n",
              "75%       4.000000     5.000000     7.000000\n",
              "max      50.000000    30.000000   200.000000"
            ]
          },
          "metadata": {
            "tags": []
          },
          "execution_count": 80
        }
      ]
    },
    {
      "cell_type": "code",
      "metadata": {
        "colab": {
          "base_uri": "https://localhost:8080/"
        },
        "id": "3vAS9bW4jucR",
        "outputId": "e84220f4-bf74-455f-a0f6-8a89641a836a"
      },
      "source": [
        "hsdf.info()"
      ],
      "execution_count": null,
      "outputs": [
        {
          "output_type": "stream",
          "text": [
            "<class 'pandas.core.frame.DataFrame'>\n",
            "RangeIndex: 2819 entries, 0 to 2818\n",
            "Data columns (total 9 columns):\n",
            " #   Column       Non-Null Count  Dtype  \n",
            "---  ------       --------------  -----  \n",
            " 0   card_id      2819 non-null   object \n",
            " 1   playerClass  2816 non-null   object \n",
            " 2   type         2818 non-null   object \n",
            " 3   name         2818 non-null   object \n",
            " 4   set          2818 non-null   object \n",
            " 5   text         2386 non-null   object \n",
            " 6   cost         2168 non-null   float64\n",
            " 7   attack       1258 non-null   float64\n",
            " 8   health       1368 non-null   float64\n",
            "dtypes: float64(3), object(6)\n",
            "memory usage: 198.3+ KB\n"
          ],
          "name": "stdout"
        }
      ]
    },
    {
      "cell_type": "code",
      "metadata": {
        "id": "SYnT7SXqkiDq"
      },
      "source": [
        "hsdf = hsdf.interpolate().dropna()"
      ],
      "execution_count": null,
      "outputs": []
    },
    {
      "cell_type": "code",
      "metadata": {
        "colab": {
          "base_uri": "https://localhost:8080/"
        },
        "id": "P-_riEhAmGxy",
        "outputId": "5b7be6de-227a-4168-8e19-2daaaad1c95c"
      },
      "source": [
        "hsdf.info()"
      ],
      "execution_count": null,
      "outputs": [
        {
          "output_type": "stream",
          "text": [
            "<class 'pandas.core.frame.DataFrame'>\n",
            "Int64Index: 2382 entries, 3 to 2817\n",
            "Data columns (total 9 columns):\n",
            " #   Column       Non-Null Count  Dtype  \n",
            "---  ------       --------------  -----  \n",
            " 0   card_id      2382 non-null   object \n",
            " 1   playerClass  2382 non-null   object \n",
            " 2   type         2382 non-null   object \n",
            " 3   name         2382 non-null   object \n",
            " 4   set          2382 non-null   object \n",
            " 5   text         2382 non-null   object \n",
            " 6   cost         2382 non-null   float64\n",
            " 7   attack       2382 non-null   float64\n",
            " 8   health       2382 non-null   float64\n",
            "dtypes: float64(3), object(6)\n",
            "memory usage: 186.1+ KB\n"
          ],
          "name": "stdout"
        }
      ]
    },
    {
      "cell_type": "code",
      "metadata": {
        "colab": {
          "base_uri": "https://localhost:8080/"
        },
        "id": "5tLVQ-gwl3yW",
        "outputId": "99729f6a-b460-4917-c297-b64441f6e0a6"
      },
      "source": [
        "hsdf.isnull().sum()"
      ],
      "execution_count": null,
      "outputs": [
        {
          "output_type": "execute_result",
          "data": {
            "text/plain": [
              "card_id        0\n",
              "playerClass    0\n",
              "type           0\n",
              "name           0\n",
              "set            0\n",
              "text           0\n",
              "cost           0\n",
              "attack         0\n",
              "health         0\n",
              "dtype: int64"
            ]
          },
          "metadata": {
            "tags": []
          },
          "execution_count": 85
        }
      ]
    },
    {
      "cell_type": "code",
      "metadata": {
        "id": "64nDDDJo13xJ"
      },
      "source": [
        "# removing column with that held to many categories\n",
        "hs = hsdf\n",
        "del hs['card_id']\n",
        "del hs['name']\n",
        "del hs['text']\n",
        "\n"
      ],
      "execution_count": null,
      "outputs": []
    },
    {
      "cell_type": "code",
      "metadata": {
        "colab": {
          "base_uri": "https://localhost:8080/"
        },
        "id": "tl1ylauL2ZqK",
        "outputId": "cf76e46c-193f-4252-ab06-e52f1aae6ce9"
      },
      "source": [
        "hs.set.unique()"
      ],
      "execution_count": null,
      "outputs": [
        {
          "output_type": "execute_result",
          "data": {
            "text/plain": [
              "array(['BRM', 'TGT', 'OG', 'CREDITS', 'GVG', 'TB', 'CORE', 'LOE',\n",
              "       'HERO_SKINS', 'GANGS', 'EXPERT1', 'PROMO', 'NAXX', 'KARA',\n",
              "       'MISSIONS', 'CHEAT', 'REWARD'], dtype=object)"
            ]
          },
          "metadata": {
            "tags": []
          },
          "execution_count": 74
        }
      ]
    },
    {
      "cell_type": "code",
      "metadata": {
        "id": "S4HJMbMY3MGx"
      },
      "source": [
        "# reclassifying certain columns with to many categories for the model\n",
        "\n",
        "hs['playerClass'] = hs.playerClass.map({'DRUID': 0, 'NEUTRAL': 1, 'WARRIOR': 2, 'WARLOCK': 3, 'PALADIN': 4, 'SHAMAN': 5,\n",
        "       'HUNTER': 6, 'MAGE': 7, 'ROGUE': 8, 'PRIEST': 9, 'DREAM': 10, 'DEATHKNIGHT': 11})\n",
        "\n",
        "hs['type'] = hs.type.map({'MINION': 0, 'ENCHANTMENT': 1, 'HERO': 2, 'HERO_POWER': 3, 'SPELL': 4, 'WEAPON': 5})\n",
        "\n",
        "hs['set'] = hs.set.map({'BRM': 0, 'TGT': 1, 'OG': 2, 'CREDITS': 3, 'GVG': 4, 'TB': 5, 'CORE': 6, 'LOE': 7,\n",
        "       'HERO_SKINS': 8, 'GANGS': 9, 'EXPERT1': 10, 'PROMO': 11, 'NAXX': 12, 'KARA': 13,\n",
        "       'MISSIONS': 14, 'CHEAT': 15, 'REWARD': 16})\n"
      ],
      "execution_count": null,
      "outputs": []
    },
    {
      "cell_type": "code",
      "metadata": {
        "colab": {
          "base_uri": "https://localhost:8080/",
          "height": 345
        },
        "id": "UsOTHTwQbrXw",
        "outputId": "9fe7e750-7274-4d74-80eb-054d92100fda"
      },
      "source": [
        "hs.head(10)"
      ],
      "execution_count": null,
      "outputs": [
        {
          "output_type": "execute_result",
          "data": {
            "text/html": [
              "<div>\n",
              "<style scoped>\n",
              "    .dataframe tbody tr th:only-of-type {\n",
              "        vertical-align: middle;\n",
              "    }\n",
              "\n",
              "    .dataframe tbody tr th {\n",
              "        vertical-align: top;\n",
              "    }\n",
              "\n",
              "    .dataframe thead th {\n",
              "        text-align: right;\n",
              "    }\n",
              "</style>\n",
              "<table border=\"1\" class=\"dataframe\">\n",
              "  <thead>\n",
              "    <tr style=\"text-align: right;\">\n",
              "      <th></th>\n",
              "      <th>playerClass</th>\n",
              "      <th>type</th>\n",
              "      <th>set</th>\n",
              "      <th>cost</th>\n",
              "      <th>attack</th>\n",
              "      <th>health</th>\n",
              "    </tr>\n",
              "  </thead>\n",
              "  <tbody>\n",
              "    <tr>\n",
              "      <th>3</th>\n",
              "      <td>1</td>\n",
              "      <td>0</td>\n",
              "      <td>1</td>\n",
              "      <td>6.00</td>\n",
              "      <td>6.0</td>\n",
              "      <td>3.000000</td>\n",
              "    </tr>\n",
              "    <tr>\n",
              "      <th>5</th>\n",
              "      <td>1</td>\n",
              "      <td>0</td>\n",
              "      <td>3</td>\n",
              "      <td>9.00</td>\n",
              "      <td>9.0</td>\n",
              "      <td>9.000000</td>\n",
              "    </tr>\n",
              "    <tr>\n",
              "      <th>6</th>\n",
              "      <td>1</td>\n",
              "      <td>1</td>\n",
              "      <td>2</td>\n",
              "      <td>7.25</td>\n",
              "      <td>7.8</td>\n",
              "      <td>29.500000</td>\n",
              "    </tr>\n",
              "    <tr>\n",
              "      <th>8</th>\n",
              "      <td>1</td>\n",
              "      <td>1</td>\n",
              "      <td>4</td>\n",
              "      <td>3.75</td>\n",
              "      <td>5.4</td>\n",
              "      <td>34.666667</td>\n",
              "    </tr>\n",
              "    <tr>\n",
              "      <th>9</th>\n",
              "      <td>1</td>\n",
              "      <td>3</td>\n",
              "      <td>5</td>\n",
              "      <td>2.00</td>\n",
              "      <td>4.2</td>\n",
              "      <td>19.333333</td>\n",
              "    </tr>\n",
              "    <tr>\n",
              "      <th>10</th>\n",
              "      <td>1</td>\n",
              "      <td>0</td>\n",
              "      <td>1</td>\n",
              "      <td>3.00</td>\n",
              "      <td>3.0</td>\n",
              "      <td>4.000000</td>\n",
              "    </tr>\n",
              "    <tr>\n",
              "      <th>11</th>\n",
              "      <td>1</td>\n",
              "      <td>1</td>\n",
              "      <td>6</td>\n",
              "      <td>1.50</td>\n",
              "      <td>3.4</td>\n",
              "      <td>4.000000</td>\n",
              "    </tr>\n",
              "    <tr>\n",
              "      <th>12</th>\n",
              "      <td>1</td>\n",
              "      <td>3</td>\n",
              "      <td>7</td>\n",
              "      <td>0.00</td>\n",
              "      <td>3.8</td>\n",
              "      <td>4.000000</td>\n",
              "    </tr>\n",
              "    <tr>\n",
              "      <th>13</th>\n",
              "      <td>2</td>\n",
              "      <td>3</td>\n",
              "      <td>8</td>\n",
              "      <td>2.00</td>\n",
              "      <td>4.2</td>\n",
              "      <td>4.000000</td>\n",
              "    </tr>\n",
              "    <tr>\n",
              "      <th>14</th>\n",
              "      <td>1</td>\n",
              "      <td>1</td>\n",
              "      <td>9</td>\n",
              "      <td>4.00</td>\n",
              "      <td>4.6</td>\n",
              "      <td>4.000000</td>\n",
              "    </tr>\n",
              "  </tbody>\n",
              "</table>\n",
              "</div>"
            ],
            "text/plain": [
              "    playerClass  type  set  cost  attack     health\n",
              "3             1     0    1  6.00     6.0   3.000000\n",
              "5             1     0    3  9.00     9.0   9.000000\n",
              "6             1     1    2  7.25     7.8  29.500000\n",
              "8             1     1    4  3.75     5.4  34.666667\n",
              "9             1     3    5  2.00     4.2  19.333333\n",
              "10            1     0    1  3.00     3.0   4.000000\n",
              "11            1     1    6  1.50     3.4   4.000000\n",
              "12            1     3    7  0.00     3.8   4.000000\n",
              "13            2     3    8  2.00     4.2   4.000000\n",
              "14            1     1    9  4.00     4.6   4.000000"
            ]
          },
          "metadata": {
            "tags": []
          },
          "execution_count": 91
        }
      ]
    },
    {
      "cell_type": "markdown",
      "metadata": {
        "id": "xUUt4UrF8mJJ"
      },
      "source": [
        "# Logistic Regression"
      ]
    },
    {
      "cell_type": "code",
      "metadata": {
        "id": "BKribKAfn6Yi"
      },
      "source": [
        "# setting the variables\n",
        "X = hs.drop(['type'], axis = 1)\n",
        "y = hs['type']\n",
        "\n",
        "#splitting the datasets\n",
        "from sklearn.model_selection import train_test_split\n",
        "X_train, X_test, y_train, y_test = train_test_split(X, y, test_size=0.20)"
      ],
      "execution_count": null,
      "outputs": []
    },
    {
      "cell_type": "code",
      "metadata": {
        "id": "4xy4SnKCsAQ4"
      },
      "source": [
        "\n",
        "LogReg = LogisticRegression()\n",
        "\n",
        "\n",
        "scaler = preprocessing.StandardScaler()\n",
        "X_train = scaler.fit_transform(X_train)\n",
        "X_test = scaler.transform(X_test)\n",
        "\n",
        "LogReg.fit(X_train,y_train)\n",
        "\n",
        "\n",
        "y_pred=LogReg.predict(X_test)"
      ],
      "execution_count": null,
      "outputs": []
    },
    {
      "cell_type": "code",
      "metadata": {
        "colab": {
          "base_uri": "https://localhost:8080/"
        },
        "id": "KlymDAJTsB1p",
        "outputId": "5a96d8d2-fff5-421a-b304-93ee67902fb1"
      },
      "source": [
        "print('Classes', LogReg.classes_)\n",
        "print('Intercept',LogReg.intercept_)\n",
        "print(\"Coefficients\", LogReg.coef_ )"
      ],
      "execution_count": null,
      "outputs": [
        {
          "output_type": "stream",
          "text": [
            "Classes [0 1 3 4 5]\n",
            "Intercept [ 1.18481156  0.55950584 -0.68347474  0.84246091 -1.90330356]\n",
            "Coefficients [[-0.08032978 -0.04867393  0.93866758 -0.26715563 -0.80704743]\n",
            " [-0.1300833  -0.08858911  0.12820681  0.07290969  0.14466212]\n",
            " [-0.2449387  -0.21455232 -1.12353854  0.36239237  0.30052971]\n",
            " [ 0.20102284  0.18452421 -0.46840588  0.42525573  0.20885022]\n",
            " [ 0.25432894  0.16729115  0.52507004 -0.59340216  0.15300538]]\n"
          ],
          "name": "stdout"
        }
      ]
    },
    {
      "cell_type": "code",
      "metadata": {
        "colab": {
          "base_uri": "https://localhost:8080/"
        },
        "id": "hxi1ZKXE5rp3",
        "outputId": "1ba1f09a-af1e-4538-c087-7a8d735d5016"
      },
      "source": [
        "print(\"Accuracy\", LogReg.score(X_test, y_test))\n",
        "print(classification_report(y_test, LogReg.predict(X_test)))"
      ],
      "execution_count": null,
      "outputs": [
        {
          "output_type": "stream",
          "text": [
            "Accuracy 0.5828092243186582\n",
            "              precision    recall  f1-score   support\n",
            "\n",
            "           0       0.59      0.93      0.72       193\n",
            "           1       0.00      0.00      0.00        78\n",
            "           3       0.75      0.06      0.11        51\n",
            "           4       0.58      0.65      0.61       146\n",
            "           5       0.00      0.00      0.00         9\n",
            "\n",
            "    accuracy                           0.58       477\n",
            "   macro avg       0.38      0.33      0.29       477\n",
            "weighted avg       0.50      0.58      0.49       477\n",
            "\n"
          ],
          "name": "stdout"
        },
        {
          "output_type": "stream",
          "text": [
            "/usr/local/lib/python3.6/dist-packages/sklearn/metrics/_classification.py:1272: UndefinedMetricWarning: Precision and F-score are ill-defined and being set to 0.0 in labels with no predicted samples. Use `zero_division` parameter to control this behavior.\n",
            "  _warn_prf(average, modifier, msg_start, len(result))\n"
          ],
          "name": "stderr"
        }
      ]
    },
    {
      "cell_type": "markdown",
      "metadata": {
        "id": "Fvu33Udx-KpW"
      },
      "source": [
        "### From the results my classifier accurately predicted 58% of the target variable"
      ]
    },
    {
      "cell_type": "code",
      "metadata": {
        "colab": {
          "base_uri": "https://localhost:8080/"
        },
        "id": "R1mv0Tf16Qvi",
        "outputId": "5aabd7c9-d7d4-461b-dd9f-91b8f4371930"
      },
      "source": [
        "# Confusion Matrix\n",
        "conf_mat = confusion_matrix(y_test, y_pred)\n",
        "conf_mat"
      ],
      "execution_count": null,
      "outputs": [
        {
          "output_type": "execute_result",
          "data": {
            "text/plain": [
              "array([[180,   1,   0,  12,   0],\n",
              "       [ 55,   0,   1,  22,   0],\n",
              "       [ 15,   1,   3,  32,   0],\n",
              "       [ 50,   1,   0,  95,   0],\n",
              "       [  6,   0,   0,   3,   0]])"
            ]
          },
          "metadata": {
            "tags": []
          },
          "execution_count": 165
        }
      ]
    },
    {
      "cell_type": "code",
      "metadata": {
        "colab": {
          "base_uri": "https://localhost:8080/",
          "height": 337
        },
        "id": "gyYUIux06fmo",
        "outputId": "e60eb3f7-7149-4be8-bc9a-09dcefbd19f8"
      },
      "source": [
        "categories = [0,1] \n",
        "fig, ax = plt.subplots()\n",
        "plt.xticks([0,1], categories)\n",
        "plt.yticks([0,1], categories)\n",
        "\n",
        "# create heatmap\n",
        "sns.heatmap(pd.DataFrame(conf_mat), annot=True, cmap=\"YlGnBu\" ,fmt='g')\n",
        "ax.xaxis.set_label_position(\"top\")\n",
        "plt.tight_layout()\n",
        "plt.title('Confusion matrix', y=1.1)\n",
        "plt.ylabel('Actual label')\n",
        "plt.xlabel('Predicted label')"
      ],
      "execution_count": null,
      "outputs": [
        {
          "output_type": "execute_result",
          "data": {
            "text/plain": [
              "Text(0.5, 257.44, 'Predicted label')"
            ]
          },
          "metadata": {
            "tags": []
          },
          "execution_count": 166
        },
        {
          "output_type": "display_data",
          "data": {
            "image/png": "[encoded data removed]",
            "text/plain": [
              "<Figure size 432x288 with 2 Axes>"
            ]
          },
          "metadata": {
            "tags": [],
            "needs_background": "light"
          }
        }
      ]
    },
    {
      "cell_type": "markdown",
      "metadata": {
        "id": "jfvLjXzz84o8"
      },
      "source": [
        "# Decision Tree Classification"
      ]
    },
    {
      "cell_type": "code",
      "metadata": {
        "id": "sa_2Y2Tc7wQL"
      },
      "source": [
        "clf = DecisionTreeClassifier(criterion='entropy', random_state=99)"
      ],
      "execution_count": null,
      "outputs": []
    },
    {
      "cell_type": "code",
      "metadata": {
        "colab": {
          "base_uri": "https://localhost:8080/"
        },
        "id": "dVRh1o_x9qOE",
        "outputId": "c3033fdd-3fa8-4ef1-c536-0613af6aee8c"
      },
      "source": [
        "clf.fit(X_train,y_train)\n",
        "y_pred= clf.predict(X_test)\n",
        "accuracy_score(y_test, y_pred)"
      ],
      "execution_count": null,
      "outputs": [
        {
          "output_type": "execute_result",
          "data": {
            "text/plain": [
              "0.6477987421383647"
            ]
          },
          "metadata": {
            "tags": []
          },
          "execution_count": 168
        }
      ]
    },
    {
      "cell_type": "markdown",
      "metadata": {
        "id": "sKz59f9i_QMg"
      },
      "source": [
        "### Using this Classification the prediction attained a 64% accuracy of the target variable\n",
        "### The tree is plotted below:"
      ]
    },
    {
      "cell_type": "code",
      "metadata": {
        "colab": {
          "base_uri": "https://localhost:8080/",
          "height": 683
        },
        "id": "WHPrUg2K9wgM",
        "outputId": "f629460a-de74-4bb2-efd3-67f01b6edd53"
      },
      "source": [
        "from sklearn import tree\n",
        "import matplotlib.pyplot as plt\n",
        "\n",
        "fig, ax = plt.subplots(figsize=(12, 12))\n",
        "tree.plot_tree(decision_tree=clf, max_depth= 3,fontsize=12);"
      ],
      "execution_count": null,
      "outputs": [
        {
          "output_type": "display_data",
          "data": {
            "image/png": "[encoded data removed]",
            "text/plain": [
              "<Figure size 864x864 with 1 Axes>"
            ]
          },
          "metadata": {
            "tags": [],
            "needs_background": "light"
          }
        }
      ]
    },
    {
      "cell_type": "markdown",
      "metadata": {
        "id": "543jUum5Aw80"
      },
      "source": [
        "# XGBoost "
      ]
    },
    {
      "cell_type": "code",
      "metadata": {
        "colab": {
          "base_uri": "https://localhost:8080/",
          "height": 312
        },
        "id": "d2qwWL72AIHt",
        "outputId": "1a946640-f1bd-4e1a-8966-665a2d923eb3"
      },
      "source": [
        "# Creating XGBoost model\n",
        "xg_cl = xgb.XGBClassifier(objective='binary:logistic', n_estimators=10, seed=123)\n",
        "\n",
        "xg_cl.fit(X_train, y_train)\n",
        "\n",
        "preds = xg_cl.predict(X_test)\n",
        "\n",
        "accuracy = float(np.sum(preds==y_test))/y_test.shape[0]\n",
        "print(\"accuracy: %f\" % (accuracy))\n",
        "xgb.plot_importance(xg_cl)\n",
        "plt.show()"
      ],
      "execution_count": null,
      "outputs": [
        {
          "output_type": "stream",
          "text": [
            "accuracy: 0.624738\n"
          ],
          "name": "stdout"
        },
        {
          "output_type": "display_data",
          "data": {
            "image/png": "[encoded data removed]",
            "text/plain": [
              "<Figure size 432x288 with 1 Axes>"
            ]
          },
          "metadata": {
            "tags": [],
            "needs_background": "light"
          }
        }
      ]
    },
    {
      "cell_type": "markdown",
      "metadata": {
        "id": "3l2zYLVsI7fY"
      },
      "source": [
        "### Using the XGBoost classifier it was able to reach 62% accuracy on the target variable \n",
        "#### The graph below shows feature importance"
      ]
    },
    {
      "cell_type": "markdown",
      "metadata": {
        "id": "wVo-fNWgJo90"
      },
      "source": [
        "# Keras"
      ]
    },
    {
      "cell_type": "code",
      "metadata": {
        "colab": {
          "base_uri": "https://localhost:8080/"
        },
        "id": "2BPcKLcXJObJ",
        "outputId": "51100edc-c4aa-4aec-b893-bc9c7b6c6bec"
      },
      "source": [
        "# Constructing Keras model\n",
        "model = Sequential()\n",
        "\n",
        "model.add(Dense(128, input_shape=(5,), activation='relu'))\n",
        "model.add(Dense(64, activation='relu'))\n",
        "model.add(Dense(32, activation='relu'))\n",
        "  \n",
        "model.add(Dense(4, activation=\"softmax\"))\n",
        "model.add(Dense(1))\n",
        "model.summary()"
      ],
      "execution_count": null,
      "outputs": [
        {
          "output_type": "stream",
          "text": [
            "Model: \"sequential\"\n",
            "_________________________________________________________________\n",
            "Layer (type)                 Output Shape              Param #   \n",
            "=================================================================\n",
            "dense (Dense)                (None, 128)               768       \n",
            "_________________________________________________________________\n",
            "dense_1 (Dense)              (None, 64)                8256      \n",
            "_________________________________________________________________\n",
            "dense_2 (Dense)              (None, 32)                2080      \n",
            "_________________________________________________________________\n",
            "dense_3 (Dense)              (None, 4)                 132       \n",
            "_________________________________________________________________\n",
            "dense_4 (Dense)              (None, 1)                 5         \n",
            "=================================================================\n",
            "Total params: 11,241\n",
            "Trainable params: 11,241\n",
            "Non-trainable params: 0\n",
            "_________________________________________________________________\n"
          ],
          "name": "stdout"
        }
      ]
    },
    {
      "cell_type": "code",
      "metadata": {
        "id": "GC9jJoAKa9V-"
      },
      "source": [
        "#keras.backend.clear_session()"
      ],
      "execution_count": null,
      "outputs": []
    },
    {
      "cell_type": "code",
      "metadata": {
        "colab": {
          "base_uri": "https://localhost:8080/"
        },
        "id": "X8gxOiGiS2of",
        "outputId": "f9ae9160-f761-489b-fd72-6d7bffaf983f"
      },
      "source": [
        "# Compiling my model\n",
        "model.compile(optimizer = 'adam', loss = 'categorical_crossentropy', metrics=['accuracy'])\n",
        " \n",
        "# fitting model and determining accuracy \n",
        "model.fit(X_train,y_train,epochs=200)\n",
        "accuracy = model.evaluate(X_test, y_test)[1]\n",
        "print('Accuracy:', accuracy)"
      ],
      "execution_count": null,
      "outputs": [
        {
          "output_type": "stream",
          "text": [
            "Epoch 1/200\n",
            "60/60 [==============================] - 0s 2ms/step - loss: 1.9943e-07 - accuracy: 0.4278\n",
            "Epoch 2/200\n",
            "60/60 [==============================] - 0s 1ms/step - loss: 1.9943e-07 - accuracy: 0.4278\n",
            "Epoch 3/200\n",
            "60/60 [==============================] - 0s 2ms/step - loss: 1.9943e-07 - accuracy: 0.4278\n",
            "Epoch 4/200\n",
            "60/60 [==============================] - 0s 2ms/step - loss: 1.9943e-07 - accuracy: 0.4278\n",
            "Epoch 5/200\n",
            "60/60 [==============================] - 0s 1ms/step - loss: 1.9943e-07 - accuracy: 0.4278\n",
            "Epoch 6/200\n",
            "60/60 [==============================] - 0s 2ms/step - loss: 1.9943e-07 - accuracy: 0.4278\n",
            "Epoch 7/200\n",
            "60/60 [==============================] - 0s 2ms/step - loss: 1.9943e-07 - accuracy: 0.4278\n",
            "Epoch 8/200\n",
            "60/60 [==============================] - 0s 2ms/step - loss: 1.9943e-07 - accuracy: 0.4278\n",
            "Epoch 9/200\n",
            "60/60 [==============================] - 0s 2ms/step - loss: 1.9943e-07 - accuracy: 0.4278\n",
            "Epoch 10/200\n",
            "60/60 [==============================] - 0s 2ms/step - loss: 1.9943e-07 - accuracy: 0.4278\n",
            "Epoch 11/200\n",
            "60/60 [==============================] - 0s 1ms/step - loss: 1.9943e-07 - accuracy: 0.4278\n",
            "Epoch 12/200\n",
            "60/60 [==============================] - 0s 2ms/step - loss: 1.9943e-07 - accuracy: 0.4278\n",
            "Epoch 13/200\n",
            "60/60 [==============================] - 0s 2ms/step - loss: 1.9943e-07 - accuracy: 0.4278\n",
            "Epoch 14/200\n",
            "60/60 [==============================] - 0s 2ms/step - loss: 1.9943e-07 - accuracy: 0.4278\n",
            "Epoch 15/200\n",
            "60/60 [==============================] - 0s 1ms/step - loss: 1.9943e-07 - accuracy: 0.4278\n",
            "Epoch 16/200\n",
            "60/60 [==============================] - 0s 2ms/step - loss: 1.9943e-07 - accuracy: 0.4278\n",
            "Epoch 17/200\n",
            "60/60 [==============================] - 0s 2ms/step - loss: 1.9943e-07 - accuracy: 0.4278\n",
            "Epoch 18/200\n",
            "60/60 [==============================] - 0s 2ms/step - loss: 1.9943e-07 - accuracy: 0.4278\n",
            "Epoch 19/200\n",
            "60/60 [==============================] - 0s 1ms/step - loss: 1.9943e-07 - accuracy: 0.4278\n",
            "Epoch 20/200\n",
            "60/60 [==============================] - 0s 2ms/step - loss: 1.9943e-07 - accuracy: 0.4278\n",
            "Epoch 21/200\n",
            "60/60 [==============================] - 0s 1ms/step - loss: 1.9943e-07 - accuracy: 0.4278\n",
            "Epoch 22/200\n",
            "60/60 [==============================] - 0s 2ms/step - loss: 1.9943e-07 - accuracy: 0.4278\n",
            "Epoch 23/200\n",
            "60/60 [==============================] - 0s 2ms/step - loss: 1.9943e-07 - accuracy: 0.4278\n",
            "Epoch 24/200\n",
            "60/60 [==============================] - 0s 2ms/step - loss: 1.9943e-07 - accuracy: 0.4278\n",
            "Epoch 25/200\n",
            "60/60 [==============================] - 0s 1ms/step - loss: 1.9943e-07 - accuracy: 0.4278\n",
            "Epoch 26/200\n",
            "60/60 [==============================] - 0s 2ms/step - loss: 1.9943e-07 - accuracy: 0.4278\n",
            "Epoch 27/200\n",
            "60/60 [==============================] - 0s 2ms/step - loss: 1.9943e-07 - accuracy: 0.4278\n",
            "Epoch 28/200\n",
            "60/60 [==============================] - 0s 2ms/step - loss: 1.9943e-07 - accuracy: 0.4278\n",
            "Epoch 29/200\n",
            "60/60 [==============================] - 0s 2ms/step - loss: 1.9943e-07 - accuracy: 0.4278\n",
            "Epoch 30/200\n",
            "60/60 [==============================] - 0s 2ms/step - loss: 1.9943e-07 - accuracy: 0.4278\n",
            "Epoch 31/200\n",
            "60/60 [==============================] - 0s 2ms/step - loss: 1.9943e-07 - accuracy: 0.4278\n",
            "Epoch 32/200\n",
            "60/60 [==============================] - 0s 2ms/step - loss: 1.9943e-07 - accuracy: 0.4278\n",
            "Epoch 33/200\n",
            "60/60 [==============================] - 0s 2ms/step - loss: 1.9943e-07 - accuracy: 0.4278\n",
            "Epoch 34/200\n",
            "60/60 [==============================] - 0s 2ms/step - loss: 1.9943e-07 - accuracy: 0.4278\n",
            "Epoch 35/200\n",
            "60/60 [==============================] - 0s 2ms/step - loss: 1.9943e-07 - accuracy: 0.4278\n",
            "Epoch 36/200\n",
            "60/60 [==============================] - 0s 2ms/step - loss: 1.9943e-07 - accuracy: 0.4278\n",
            "Epoch 37/200\n",
            "60/60 [==============================] - 0s 2ms/step - loss: 1.9943e-07 - accuracy: 0.4278\n",
            "Epoch 38/200\n",
            "60/60 [==============================] - 0s 2ms/step - loss: 1.9943e-07 - accuracy: 0.4278\n",
            "Epoch 39/200\n",
            "60/60 [==============================] - 0s 2ms/step - loss: 1.9943e-07 - accuracy: 0.4278\n",
            "Epoch 40/200\n",
            "60/60 [==============================] - 0s 2ms/step - loss: 1.9943e-07 - accuracy: 0.4278\n",
            "Epoch 41/200\n",
            "60/60 [==============================] - 0s 2ms/step - loss: 1.9943e-07 - accuracy: 0.4278\n",
            "Epoch 42/200\n",
            "60/60 [==============================] - 0s 2ms/step - loss: 1.9943e-07 - accuracy: 0.4278\n",
            "Epoch 43/200\n",
            "60/60 [==============================] - 0s 2ms/step - loss: 1.9943e-07 - accuracy: 0.4278\n",
            "Epoch 44/200\n",
            "60/60 [==============================] - 0s 2ms/step - loss: 1.9943e-07 - accuracy: 0.4278\n",
            "Epoch 45/200\n",
            "60/60 [==============================] - 0s 1ms/step - loss: 1.9943e-07 - accuracy: 0.4278\n",
            "Epoch 46/200\n",
            "60/60 [==============================] - 0s 2ms/step - loss: 1.9943e-07 - accuracy: 0.4278\n",
            "Epoch 47/200\n",
            "60/60 [==============================] - 0s 2ms/step - loss: 1.9943e-07 - accuracy: 0.4278\n",
            "Epoch 48/200\n",
            "60/60 [==============================] - 0s 1ms/step - loss: 1.9943e-07 - accuracy: 0.4278\n",
            "Epoch 49/200\n",
            "60/60 [==============================] - 0s 2ms/step - loss: 1.9943e-07 - accuracy: 0.4278\n",
            "Epoch 50/200\n",
            "60/60 [==============================] - 0s 1ms/step - loss: 1.9943e-07 - accuracy: 0.4278\n",
            "Epoch 51/200\n",
            "60/60 [==============================] - 0s 2ms/step - loss: 1.9943e-07 - accuracy: 0.4278\n",
            "Epoch 52/200\n",
            "60/60 [==============================] - 0s 2ms/step - loss: 1.9943e-07 - accuracy: 0.4278\n",
            "Epoch 53/200\n",
            "60/60 [==============================] - 0s 2ms/step - loss: 1.9943e-07 - accuracy: 0.4278\n",
            "Epoch 54/200\n",
            "60/60 [==============================] - 0s 2ms/step - loss: 1.9943e-07 - accuracy: 0.4278\n",
            "Epoch 55/200\n",
            "60/60 [==============================] - 0s 1ms/step - loss: 1.9943e-07 - accuracy: 0.4278\n",
            "Epoch 56/200\n",
            "60/60 [==============================] - 0s 2ms/step - loss: 1.9943e-07 - accuracy: 0.4278\n",
            "Epoch 57/200\n",
            "60/60 [==============================] - 0s 1ms/step - loss: 1.9943e-07 - accuracy: 0.4278\n",
            "Epoch 58/200\n",
            "60/60 [==============================] - 0s 2ms/step - loss: 1.9943e-07 - accuracy: 0.4278\n",
            "Epoch 59/200\n",
            "60/60 [==============================] - 0s 1ms/step - loss: 1.9943e-07 - accuracy: 0.4278\n",
            "Epoch 60/200\n",
            "60/60 [==============================] - 0s 2ms/step - loss: 1.9943e-07 - accuracy: 0.4278\n",
            "Epoch 61/200\n",
            "60/60 [==============================] - 0s 1ms/step - loss: 1.9943e-07 - accuracy: 0.4278\n",
            "Epoch 62/200\n",
            "60/60 [==============================] - 0s 2ms/step - loss: 1.9943e-07 - accuracy: 0.4278\n",
            "Epoch 63/200\n",
            "60/60 [==============================] - 0s 2ms/step - loss: 1.9943e-07 - accuracy: 0.4278\n",
            "Epoch 64/200\n",
            "60/60 [==============================] - 0s 2ms/step - loss: 1.9943e-07 - accuracy: 0.4278\n",
            "Epoch 65/200\n",
            "60/60 [==============================] - 0s 2ms/step - loss: 1.9943e-07 - accuracy: 0.4278\n",
            "Epoch 66/200\n",
            "60/60 [==============================] - 0s 2ms/step - loss: 1.9943e-07 - accuracy: 0.4278\n",
            "Epoch 67/200\n",
            "60/60 [==============================] - 0s 2ms/step - loss: 1.9943e-07 - accuracy: 0.4278\n",
            "Epoch 68/200\n",
            "60/60 [==============================] - 0s 2ms/step - loss: 1.9943e-07 - accuracy: 0.4278\n",
            "Epoch 69/200\n",
            "60/60 [==============================] - 0s 2ms/step - loss: 1.9943e-07 - accuracy: 0.4278\n",
            "Epoch 70/200\n",
            "60/60 [==============================] - 0s 1ms/step - loss: 1.9943e-07 - accuracy: 0.4278\n",
            "Epoch 71/200\n",
            "60/60 [==============================] - 0s 2ms/step - loss: 1.9943e-07 - accuracy: 0.4278\n",
            "Epoch 72/200\n",
            "60/60 [==============================] - 0s 2ms/step - loss: 1.9943e-07 - accuracy: 0.4278\n",
            "Epoch 73/200\n",
            "60/60 [==============================] - 0s 2ms/step - loss: 1.9943e-07 - accuracy: 0.4278\n",
            "Epoch 74/200\n",
            "60/60 [==============================] - 0s 2ms/step - loss: 1.9943e-07 - accuracy: 0.4278\n",
            "Epoch 75/200\n",
            "60/60 [==============================] - 0s 2ms/step - loss: 1.9943e-07 - accuracy: 0.4278\n",
            "Epoch 76/200\n",
            "60/60 [==============================] - 0s 2ms/step - loss: 1.9943e-07 - accuracy: 0.4278\n",
            "Epoch 77/200\n",
            "60/60 [==============================] - 0s 2ms/step - loss: 1.9943e-07 - accuracy: 0.4278\n",
            "Epoch 78/200\n",
            "60/60 [==============================] - 0s 2ms/step - loss: 1.9943e-07 - accuracy: 0.4278\n",
            "Epoch 79/200\n",
            "60/60 [==============================] - 0s 2ms/step - loss: 1.9943e-07 - accuracy: 0.4278\n",
            "Epoch 80/200\n",
            "60/60 [==============================] - 0s 2ms/step - loss: 1.9943e-07 - accuracy: 0.4278\n",
            "Epoch 81/200\n",
            "60/60 [==============================] - 0s 2ms/step - loss: 1.9943e-07 - accuracy: 0.4278\n",
            "Epoch 82/200\n",
            "60/60 [==============================] - 0s 2ms/step - loss: 1.9943e-07 - accuracy: 0.4278\n",
            "Epoch 83/200\n",
            "60/60 [==============================] - 0s 2ms/step - loss: 1.9943e-07 - accuracy: 0.4278\n",
            "Epoch 84/200\n",
            "60/60 [==============================] - 0s 1ms/step - loss: 1.9943e-07 - accuracy: 0.4278\n",
            "Epoch 85/200\n",
            "60/60 [==============================] - 0s 1ms/step - loss: 1.9943e-07 - accuracy: 0.4278\n",
            "Epoch 86/200\n",
            "60/60 [==============================] - 0s 2ms/step - loss: 1.9943e-07 - accuracy: 0.4278\n",
            "Epoch 87/200\n",
            "60/60 [==============================] - 0s 2ms/step - loss: 1.9943e-07 - accuracy: 0.4278\n",
            "Epoch 88/200\n",
            "60/60 [==============================] - 0s 2ms/step - loss: 1.9943e-07 - accuracy: 0.4278\n",
            "Epoch 89/200\n",
            "60/60 [==============================] - 0s 2ms/step - loss: 1.9943e-07 - accuracy: 0.4278\n",
            "Epoch 90/200\n",
            "60/60 [==============================] - 0s 1ms/step - loss: 1.9943e-07 - accuracy: 0.4278\n",
            "Epoch 91/200\n",
            "60/60 [==============================] - 0s 2ms/step - loss: 1.9943e-07 - accuracy: 0.4278\n",
            "Epoch 92/200\n",
            "60/60 [==============================] - 0s 2ms/step - loss: 1.9943e-07 - accuracy: 0.4278\n",
            "Epoch 93/200\n",
            "60/60 [==============================] - 0s 2ms/step - loss: 1.9943e-07 - accuracy: 0.4278\n",
            "Epoch 94/200\n",
            "60/60 [==============================] - 0s 2ms/step - loss: 1.9943e-07 - accuracy: 0.4278\n",
            "Epoch 95/200\n",
            "60/60 [==============================] - 0s 2ms/step - loss: 1.9943e-07 - accuracy: 0.4278\n",
            "Epoch 96/200\n",
            "60/60 [==============================] - 0s 1ms/step - loss: 1.9943e-07 - accuracy: 0.4278\n",
            "Epoch 97/200\n",
            "60/60 [==============================] - 0s 2ms/step - loss: 1.9943e-07 - accuracy: 0.4278\n",
            "Epoch 98/200\n",
            "60/60 [==============================] - 0s 2ms/step - loss: 1.9943e-07 - accuracy: 0.4278\n",
            "Epoch 99/200\n",
            "60/60 [==============================] - 0s 1ms/step - loss: 1.9943e-07 - accuracy: 0.4278\n",
            "Epoch 100/200\n",
            "60/60 [==============================] - 0s 2ms/step - loss: 1.9943e-07 - accuracy: 0.4278\n",
            "Epoch 101/200\n",
            "60/60 [==============================] - 0s 2ms/step - loss: 1.9943e-07 - accuracy: 0.4278\n",
            "Epoch 102/200\n",
            "60/60 [==============================] - 0s 2ms/step - loss: 1.9943e-07 - accuracy: 0.4278\n",
            "Epoch 103/200\n",
            "60/60 [==============================] - 0s 2ms/step - loss: 1.9943e-07 - accuracy: 0.4278\n",
            "Epoch 104/200\n",
            "60/60 [==============================] - 0s 2ms/step - loss: 1.9943e-07 - accuracy: 0.4278\n",
            "Epoch 105/200\n",
            "60/60 [==============================] - 0s 2ms/step - loss: 1.9943e-07 - accuracy: 0.4278\n",
            "Epoch 106/200\n",
            "60/60 [==============================] - 0s 2ms/step - loss: 1.9943e-07 - accuracy: 0.4278\n",
            "Epoch 107/200\n",
            "60/60 [==============================] - 0s 2ms/step - loss: 1.9943e-07 - accuracy: 0.4278\n",
            "Epoch 108/200\n",
            "60/60 [==============================] - 0s 2ms/step - loss: 1.9943e-07 - accuracy: 0.4278\n",
            "Epoch 109/200\n",
            "60/60 [==============================] - 0s 2ms/step - loss: 1.9943e-07 - accuracy: 0.4278\n",
            "Epoch 110/200\n",
            "60/60 [==============================] - 0s 2ms/step - loss: 1.9943e-07 - accuracy: 0.4278\n",
            "Epoch 111/200\n",
            "60/60 [==============================] - 0s 2ms/step - loss: 1.9943e-07 - accuracy: 0.4278\n",
            "Epoch 112/200\n",
            "60/60 [==============================] - 0s 2ms/step - loss: 1.9943e-07 - accuracy: 0.4278\n",
            "Epoch 113/200\n",
            "60/60 [==============================] - 0s 2ms/step - loss: 1.9943e-07 - accuracy: 0.4278\n",
            "Epoch 114/200\n",
            "60/60 [==============================] - 0s 2ms/step - loss: 1.9943e-07 - accuracy: 0.4278\n",
            "Epoch 115/200\n",
            "60/60 [==============================] - 0s 2ms/step - loss: 1.9943e-07 - accuracy: 0.4278\n",
            "Epoch 116/200\n",
            "60/60 [==============================] - 0s 2ms/step - loss: 1.9943e-07 - accuracy: 0.4278\n",
            "Epoch 117/200\n",
            "60/60 [==============================] - 0s 2ms/step - loss: 1.9943e-07 - accuracy: 0.4278\n",
            "Epoch 118/200\n",
            "60/60 [==============================] - 0s 2ms/step - loss: 1.9943e-07 - accuracy: 0.4278\n",
            "Epoch 119/200\n",
            "60/60 [==============================] - 0s 2ms/step - loss: 1.9943e-07 - accuracy: 0.4278\n",
            "Epoch 120/200\n",
            "60/60 [==============================] - 0s 2ms/step - loss: 1.9943e-07 - accuracy: 0.4278\n",
            "Epoch 121/200\n",
            "60/60 [==============================] - 0s 2ms/step - loss: 1.9943e-07 - accuracy: 0.4278\n",
            "Epoch 122/200\n",
            "60/60 [==============================] - 0s 2ms/step - loss: 1.9943e-07 - accuracy: 0.4278\n",
            "Epoch 123/200\n",
            "60/60 [==============================] - 0s 2ms/step - loss: 1.9943e-07 - accuracy: 0.4278\n",
            "Epoch 124/200\n",
            "60/60 [==============================] - 0s 2ms/step - loss: 1.9943e-07 - accuracy: 0.4278\n",
            "Epoch 125/200\n",
            "60/60 [==============================] - 0s 2ms/step - loss: 1.9943e-07 - accuracy: 0.4278\n",
            "Epoch 126/200\n",
            "60/60 [==============================] - 0s 2ms/step - loss: 1.9943e-07 - accuracy: 0.4278\n",
            "Epoch 127/200\n",
            "60/60 [==============================] - 0s 2ms/step - loss: 1.9943e-07 - accuracy: 0.4278\n",
            "Epoch 128/200\n",
            "60/60 [==============================] - 0s 2ms/step - loss: 1.9943e-07 - accuracy: 0.4278\n",
            "Epoch 129/200\n",
            "60/60 [==============================] - 0s 2ms/step - loss: 1.9943e-07 - accuracy: 0.4278\n",
            "Epoch 130/200\n",
            "60/60 [==============================] - 0s 2ms/step - loss: 1.9943e-07 - accuracy: 0.4278\n",
            "Epoch 131/200\n",
            "60/60 [==============================] - 0s 2ms/step - loss: 1.9943e-07 - accuracy: 0.4278\n",
            "Epoch 132/200\n",
            "60/60 [==============================] - 0s 2ms/step - loss: 1.9943e-07 - accuracy: 0.4278\n",
            "Epoch 133/200\n",
            "60/60 [==============================] - 0s 2ms/step - loss: 1.9943e-07 - accuracy: 0.4278\n",
            "Epoch 134/200\n",
            "60/60 [==============================] - 0s 2ms/step - loss: 1.9943e-07 - accuracy: 0.4278\n",
            "Epoch 135/200\n",
            "60/60 [==============================] - 0s 2ms/step - loss: 1.9943e-07 - accuracy: 0.4278\n",
            "Epoch 136/200\n",
            "60/60 [==============================] - 0s 1ms/step - loss: 1.9943e-07 - accuracy: 0.4278\n",
            "Epoch 137/200\n",
            "60/60 [==============================] - 0s 1ms/step - loss: 1.9943e-07 - accuracy: 0.4278\n",
            "Epoch 138/200\n",
            "60/60 [==============================] - 0s 2ms/step - loss: 1.9943e-07 - accuracy: 0.4278\n",
            "Epoch 139/200\n",
            "60/60 [==============================] - 0s 2ms/step - loss: 1.9943e-07 - accuracy: 0.4278\n",
            "Epoch 140/200\n",
            "60/60 [==============================] - 0s 2ms/step - loss: 1.9943e-07 - accuracy: 0.4278\n",
            "Epoch 141/200\n",
            "60/60 [==============================] - 0s 2ms/step - loss: 1.9943e-07 - accuracy: 0.4278\n",
            "Epoch 142/200\n",
            "60/60 [==============================] - 0s 1ms/step - loss: 1.9943e-07 - accuracy: 0.4278\n",
            "Epoch 143/200\n",
            "60/60 [==============================] - 0s 2ms/step - loss: 1.9943e-07 - accuracy: 0.4278\n",
            "Epoch 144/200\n",
            "60/60 [==============================] - 0s 2ms/step - loss: 1.9943e-07 - accuracy: 0.4278\n",
            "Epoch 145/200\n",
            "60/60 [==============================] - 0s 2ms/step - loss: 1.9943e-07 - accuracy: 0.4278\n",
            "Epoch 146/200\n",
            "60/60 [==============================] - 0s 1ms/step - loss: 1.9943e-07 - accuracy: 0.4278\n",
            "Epoch 147/200\n",
            "60/60 [==============================] - 0s 2ms/step - loss: 1.9943e-07 - accuracy: 0.4278\n",
            "Epoch 148/200\n",
            "60/60 [==============================] - 0s 2ms/step - loss: 1.9943e-07 - accuracy: 0.4278\n",
            "Epoch 149/200\n",
            "60/60 [==============================] - 0s 1ms/step - loss: 1.9943e-07 - accuracy: 0.4278\n",
            "Epoch 150/200\n",
            "60/60 [==============================] - 0s 2ms/step - loss: 1.9943e-07 - accuracy: 0.4278\n",
            "Epoch 151/200\n",
            "60/60 [==============================] - 0s 2ms/step - loss: 1.9943e-07 - accuracy: 0.4278\n",
            "Epoch 152/200\n",
            "60/60 [==============================] - 0s 1ms/step - loss: 1.9943e-07 - accuracy: 0.4278\n",
            "Epoch 153/200\n",
            "60/60 [==============================] - 0s 1ms/step - loss: 1.9943e-07 - accuracy: 0.4278\n",
            "Epoch 154/200\n",
            "60/60 [==============================] - 0s 2ms/step - loss: 1.9943e-07 - accuracy: 0.4278\n",
            "Epoch 155/200\n",
            "60/60 [==============================] - 0s 1ms/step - loss: 1.9943e-07 - accuracy: 0.4278\n",
            "Epoch 156/200\n",
            "60/60 [==============================] - 0s 2ms/step - loss: 1.9943e-07 - accuracy: 0.4278\n",
            "Epoch 157/200\n",
            "60/60 [==============================] - 0s 2ms/step - loss: 1.9943e-07 - accuracy: 0.4278\n",
            "Epoch 158/200\n",
            "60/60 [==============================] - 0s 2ms/step - loss: 1.9943e-07 - accuracy: 0.4278\n",
            "Epoch 159/200\n",
            "60/60 [==============================] - 0s 2ms/step - loss: 1.9943e-07 - accuracy: 0.4278\n",
            "Epoch 160/200\n",
            "60/60 [==============================] - 0s 2ms/step - loss: 1.9943e-07 - accuracy: 0.4278\n",
            "Epoch 161/200\n",
            "60/60 [==============================] - 0s 2ms/step - loss: 1.9943e-07 - accuracy: 0.4278\n",
            "Epoch 162/200\n",
            "60/60 [==============================] - 0s 2ms/step - loss: 1.9943e-07 - accuracy: 0.4278\n",
            "Epoch 163/200\n",
            "60/60 [==============================] - 0s 1ms/step - loss: 1.9943e-07 - accuracy: 0.4278\n",
            "Epoch 164/200\n",
            "60/60 [==============================] - 0s 2ms/step - loss: 1.9943e-07 - accuracy: 0.4278\n",
            "Epoch 165/200\n",
            "60/60 [==============================] - 0s 2ms/step - loss: 1.9943e-07 - accuracy: 0.4278\n",
            "Epoch 166/200\n",
            "60/60 [==============================] - 0s 2ms/step - loss: 1.9943e-07 - accuracy: 0.4278\n",
            "Epoch 167/200\n",
            "60/60 [==============================] - 0s 2ms/step - loss: 1.9943e-07 - accuracy: 0.4278\n",
            "Epoch 168/200\n",
            "60/60 [==============================] - 0s 2ms/step - loss: 1.9943e-07 - accuracy: 0.4278\n",
            "Epoch 169/200\n",
            "60/60 [==============================] - 0s 2ms/step - loss: 1.9943e-07 - accuracy: 0.4278\n",
            "Epoch 170/200\n",
            "60/60 [==============================] - 0s 2ms/step - loss: 1.9943e-07 - accuracy: 0.4278\n",
            "Epoch 171/200\n",
            "60/60 [==============================] - 0s 2ms/step - loss: 1.9943e-07 - accuracy: 0.4278\n",
            "Epoch 172/200\n",
            "60/60 [==============================] - 0s 1ms/step - loss: 1.9943e-07 - accuracy: 0.4278\n",
            "Epoch 173/200\n",
            "60/60 [==============================] - 0s 2ms/step - loss: 1.9943e-07 - accuracy: 0.4278\n",
            "Epoch 174/200\n",
            "60/60 [==============================] - 0s 2ms/step - loss: 1.9943e-07 - accuracy: 0.4278\n",
            "Epoch 175/200\n",
            "60/60 [==============================] - 0s 2ms/step - loss: 1.9943e-07 - accuracy: 0.4278\n",
            "Epoch 176/200\n",
            "60/60 [==============================] - 0s 2ms/step - loss: 1.9943e-07 - accuracy: 0.4278\n",
            "Epoch 177/200\n",
            "60/60 [==============================] - 0s 2ms/step - loss: 1.9943e-07 - accuracy: 0.4278\n",
            "Epoch 178/200\n",
            "60/60 [==============================] - 0s 2ms/step - loss: 1.9943e-07 - accuracy: 0.4278\n",
            "Epoch 179/200\n",
            "60/60 [==============================] - 0s 2ms/step - loss: 1.9943e-07 - accuracy: 0.4278\n",
            "Epoch 180/200\n",
            "60/60 [==============================] - 0s 2ms/step - loss: 1.9943e-07 - accuracy: 0.4278\n",
            "Epoch 181/200\n",
            "60/60 [==============================] - 0s 2ms/step - loss: 1.9943e-07 - accuracy: 0.4278\n",
            "Epoch 182/200\n",
            "60/60 [==============================] - 0s 2ms/step - loss: 1.9943e-07 - accuracy: 0.4278\n",
            "Epoch 183/200\n",
            "60/60 [==============================] - 0s 2ms/step - loss: 1.9943e-07 - accuracy: 0.4278\n",
            "Epoch 184/200\n",
            "60/60 [==============================] - 0s 2ms/step - loss: 1.9943e-07 - accuracy: 0.4278\n",
            "Epoch 185/200\n",
            "60/60 [==============================] - 0s 2ms/step - loss: 1.9943e-07 - accuracy: 0.4278\n",
            "Epoch 186/200\n",
            "60/60 [==============================] - 0s 2ms/step - loss: 1.9943e-07 - accuracy: 0.4278\n",
            "Epoch 187/200\n",
            "60/60 [==============================] - 0s 2ms/step - loss: 1.9943e-07 - accuracy: 0.4278\n",
            "Epoch 188/200\n",
            "60/60 [==============================] - 0s 2ms/step - loss: 1.9943e-07 - accuracy: 0.4278\n",
            "Epoch 189/200\n",
            "60/60 [==============================] - 0s 2ms/step - loss: 1.9943e-07 - accuracy: 0.4278\n",
            "Epoch 190/200\n",
            "60/60 [==============================] - 0s 2ms/step - loss: 1.9943e-07 - accuracy: 0.4278\n",
            "Epoch 191/200\n",
            "60/60 [==============================] - 0s 2ms/step - loss: 1.9943e-07 - accuracy: 0.4278\n",
            "Epoch 192/200\n",
            "60/60 [==============================] - 0s 2ms/step - loss: 1.9943e-07 - accuracy: 0.4278\n",
            "Epoch 193/200\n",
            "60/60 [==============================] - 0s 2ms/step - loss: 1.9943e-07 - accuracy: 0.4278\n",
            "Epoch 194/200\n",
            "60/60 [==============================] - 0s 2ms/step - loss: 1.9943e-07 - accuracy: 0.4278\n",
            "Epoch 195/200\n",
            "60/60 [==============================] - 0s 2ms/step - loss: 1.9943e-07 - accuracy: 0.4278\n",
            "Epoch 196/200\n",
            "60/60 [==============================] - 0s 2ms/step - loss: 1.9943e-07 - accuracy: 0.4278\n",
            "Epoch 197/200\n",
            "60/60 [==============================] - 0s 2ms/step - loss: 1.9943e-07 - accuracy: 0.4278\n",
            "Epoch 198/200\n",
            "60/60 [==============================] - 0s 2ms/step - loss: 1.9943e-07 - accuracy: 0.4278\n",
            "Epoch 199/200\n",
            "60/60 [==============================] - 0s 2ms/step - loss: 1.9943e-07 - accuracy: 0.4278\n",
            "Epoch 200/200\n",
            "60/60 [==============================] - 0s 1ms/step - loss: 1.9943e-07 - accuracy: 0.4278\n",
            "15/15 [==============================] - 0s 1ms/step - loss: 2.1493e-07 - accuracy: 0.4046\n",
            "Accuracy: 0.40461215376853943\n"
          ],
          "name": "stdout"
        }
      ]
    },
    {
      "cell_type": "markdown",
      "metadata": {
        "id": "OcIhMG_fcK3r"
      },
      "source": [
        "### The Keras model ran 200 times to ultimately get an average accuracy of 42% for the target variable"
      ]
    },
    {
      "cell_type": "markdown",
      "metadata": {
        "id": "JYP5iz1udbzr"
      },
      "source": [
        "# Pytorch"
      ]
    },
    {
      "cell_type": "code",
      "metadata": {
        "colab": {
          "base_uri": "https://localhost:8080/"
        },
        "id": "CHvqHwca1KyI",
        "outputId": "7980f385-703d-4415-95e5-90a9019454d8"
      },
      "source": [
        "import torch\n",
        "import os\n",
        "import numpy as np\n",
        "import pandas as pd\n",
        "from tqdm import tqdm\n",
        "import seaborn as sns\n",
        "from pylab import rcParams\n",
        "import matplotlib.pyplot as plt\n",
        "from matplotlib import rc\n",
        "from sklearn.model_selection import train_test_split\n",
        "from sklearn.metrics import confusion_matrix, classification_report\n",
        "from torch import nn, optim\n",
        "import torch.nn.functional as F\n",
        "%matplotlib inline\n",
        "%config InlineBackend.figure_format='retina'\n",
        "sns.set(style='whitegrid', palette='muted', font_scale=1.2)\n",
        "HAPPY_COLORS_PALETTE =\\\n",
        "[\"#01BEFE\", \"#FFDD00\", \"#FF7D00\", \"#FF006D\", \"#93D30C\", \"#8F00FF\"]\n",
        "sns.set_palette(sns.color_palette(HAPPY_COLORS_PALETTE))\n",
        "rcParams['figure.figsize'] = 12, 8\n",
        "RANDOM_SEED = 42\n",
        "np.random.seed(RANDOM_SEED)\n",
        "torch.manual_seed(RANDOM_SEED)"
      ],
      "execution_count": null,
      "outputs": [
        {
          "output_type": "execute_result",
          "data": {
            "text/plain": [
              "<torch._C.Generator at 0x7f5583352888>"
            ]
          },
          "metadata": {
            "tags": []
          },
          "execution_count": 182
        }
      ]
    },
    {
      "cell_type": "code",
      "metadata": {
        "colab": {
          "base_uri": "https://localhost:8080/"
        },
        "id": "O8uboMhAcKDC",
        "outputId": "565a4446-4f46-4a8c-f7bc-85c72ade77cd"
      },
      "source": [
        "# splitting the datasets\n",
        "X_train, X_test, y_train, y_test = train_test_split(X, y, test_size=0.20, random_state= RANDOM_SEED)\n",
        "# converting to Tensors\n",
        "X_train = torch.from_numpy(X_train.to_numpy()).float()\n",
        "y_train = torch.squeeze(torch.from_numpy(y_train.to_numpy()).float())\n",
        "X_test = torch.from_numpy(X_test.to_numpy()).float()\n",
        "y_test = torch.squeeze(torch.from_numpy(y_test.to_numpy()).float())\n",
        "print(X_train.shape, y_train.shape)\n",
        "print(X_test.shape, y_test.shape)"
      ],
      "execution_count": null,
      "outputs": [
        {
          "output_type": "stream",
          "text": [
            "torch.Size([1905, 5]) torch.Size([1905])\n",
            "torch.Size([477, 5]) torch.Size([477])\n"
          ],
          "name": "stdout"
        }
      ]
    },
    {
      "cell_type": "code",
      "metadata": {
        "id": "dW2TcZHZhHbz"
      },
      "source": [
        "# Building the Neural Network for my data\n",
        "class Net(nn.Module):\n",
        "  def __init__(self, n_features):\n",
        "    super(Net, self).__init__()\n",
        "    self.fc1 = nn.Linear(n_features, 100)\n",
        "    self.fc2 = nn.Linear(100, 600)\n",
        "    self.fc3 = nn.Linear(600, 1)\n",
        "  def forward(self, x):\n",
        "    x = F.relu(self.fc1(x))\n",
        "    x = F.relu(self.fc2(x))\n",
        "    return torch.sigmoid(self.fc3(x))\n",
        "net = Net(X_train.shape[1])\n",
        "\n"
      ],
      "execution_count": null,
      "outputs": []
    },
    {
      "cell_type": "code",
      "metadata": {
        "colab": {
          "base_uri": "https://localhost:8080/"
        },
        "id": "wqlprmC0mCni",
        "outputId": "282465e2-1b6e-4b95-a9cc-96fb947ee69c"
      },
      "source": [
        "# Training Neural Network\n",
        "criterion = nn.BCELoss()\n",
        "optimizer = optim.Adam(net.parameters(), lr=0.001)\n",
        "\n",
        "device = torch.device(\"cuda:0\" if torch.cuda.is_available() else \"cpu\")\n",
        "X_train = X_train.to(device)\n",
        "y_train = y_train.to(device)\n",
        "X_test = X_test.to(device)\n",
        "y_test = y_test.to(device)\n",
        "net = net.to(device)\n",
        "criterion = criterion.to(device)\n",
        "\n",
        "def calculate_accuracy(y_true, y_pred):\n",
        "  predicted = y_pred.ge(.5).view(-1)\n",
        "  return (y_true == predicted).sum().float() / len(y_true)\n",
        "\n",
        "def round_tensor(t, decimal_places=3):\n",
        "  return round(t.item(), decimal_places)\n",
        "for epoch in range(1000):\n",
        "    y_pred = net(X_train)\n",
        "    y_pred = torch.squeeze(y_pred)\n",
        "    train_loss = criterion(y_pred, y_train) # for some reason I am getting an error with my code, target seems to not be the same size of input. disabling code from working\n",
        "    if epoch % 100 == 0:\n",
        "      train_acc = calculate_accuracy(y_train, y_pred)\n",
        "      y_test_pred = net(X_test)\n",
        "      y_test_pred = torch.squeeze(y_test_pred)\n",
        "      test_loss = criterion(y_test_pred, y_test)\n",
        "      test_acc = calculate_accuracy(y_test, y_test_pred)\n",
        "      print(\n",
        "f'''epoch {epoch}\n",
        "Train set - loss: {round_tensor(train_loss)}, accuracy: {round_tensor(train_acc)}\n",
        "Test  set - loss: {round_tensor(test_loss)}, accuracy: {round_tensor(test_acc)}\n",
        "''')\n",
        "    optimizer.zero_grad()\n",
        "    train_loss.backward()\n",
        "    optimizer.step()\n"
      ],
      "execution_count": null,
      "outputs": [
        {
          "output_type": "stream",
          "text": [
            "epoch 0\n",
            "Train set - loss: 0.208, accuracy: 0.293\n",
            "Test  set - loss: 0.289, accuracy: 0.258\n",
            "\n",
            "epoch 100\n",
            "Train set - loss: -75.13, accuracy: 0.212\n",
            "Test  set - loss: -79.393, accuracy: 0.201\n",
            "\n",
            "epoch 200\n",
            "Train set - loss: -82.55, accuracy: 0.266\n",
            "Test  set - loss: -83.147, accuracy: 0.27\n",
            "\n",
            "epoch 300\n",
            "Train set - loss: -85.689, accuracy: 0.302\n",
            "Test  set - loss: -91.179, accuracy: 0.31\n",
            "\n",
            "epoch 400\n",
            "Train set - loss: -88.43, accuracy: 0.319\n",
            "Test  set - loss: -92.396, accuracy: 0.331\n",
            "\n",
            "epoch 500\n",
            "Train set - loss: -89.431, accuracy: 0.327\n",
            "Test  set - loss: -92.187, accuracy: 0.331\n",
            "\n",
            "epoch 600\n",
            "Train set - loss: -89.447, accuracy: 0.331\n",
            "Test  set - loss: -91.942, accuracy: 0.333\n",
            "\n",
            "epoch 700\n",
            "Train set - loss: -89.122, accuracy: 0.347\n",
            "Test  set - loss: -91.67, accuracy: 0.344\n",
            "\n",
            "epoch 800\n",
            "Train set - loss: -91.198, accuracy: 0.33\n",
            "Test  set - loss: -91.585, accuracy: 0.331\n",
            "\n",
            "epoch 900\n",
            "Train set - loss: -90.627, accuracy: 0.365\n",
            "Test  set - loss: -90.976, accuracy: 0.35\n",
            "\n"
          ],
          "name": "stdout"
        }
      ]
    },
    {
      "cell_type": "markdown",
      "metadata": {
        "id": "gH0Nghez6Lus"
      },
      "source": [
        "### The code for this portion was aided from this site: https://curiousily.com/posts/build-your-first-neural-network-with-pytorch/ and the Accuracy of the resulting network fluctuates around 32%."
      ]
    },
    {
      "cell_type": "code",
      "metadata": {
        "colab": {
          "base_uri": "https://localhost:8080/"
        },
        "id": "XfK8FXo7GTle",
        "outputId": "84838a7d-9faf-43f3-f7bb-c81635a3ca19"
      },
      "source": [
        "from google.colab import drive\n",
        "drive.mount('/content/drive')"
      ],
      "execution_count": null,
      "outputs": [
        {
          "output_type": "stream",
          "text": [
            "Mounted at /content/drive\n"
          ],
          "name": "stdout"
        }
      ]
    }
  ]
}